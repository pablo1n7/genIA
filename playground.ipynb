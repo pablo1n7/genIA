{
 "cells": [
  {
   "cell_type": "code",
   "execution_count": 60,
   "id": "c2c9b596",
   "metadata": {},
   "outputs": [],
   "source": [
    "import numpy as np\n",
    "import pandas as pd"
   ]
  },
  {
   "cell_type": "code",
   "execution_count": 67,
   "id": "d4300a60",
   "metadata": {},
   "outputs": [
    {
     "data": {
      "text/plain": [
       "0.016666666666666666"
      ]
     },
     "execution_count": 67,
     "metadata": {},
     "output_type": "execute_result"
    }
   ],
   "source": [
    "np.load('data/p_values_emp.npy', allow_pickle=True).min()"
   ]
  },
  {
   "cell_type": "code",
   "execution_count": 61,
   "id": "00ff780b",
   "metadata": {},
   "outputs": [],
   "source": [
    "columns = np.load('data/columns.npy')\n",
    "nfi = np.load('data/rand0/nfi_values.npy')\n",
    "df = pd.DataFrame({\n",
    "    \"mean_abs_shap\": np.mean(np.abs(nfi).reshape(-1), axis=0), \n",
    "    \"stdev_abs_shap\": np.std(np.abs(nfi).reshape(-1), axis=0), \n",
    "    \"mean_shap\": np.mean(nfi.reshape(-1), axis=0), \n",
    "    \"snp\": columns\n",
    "})"
   ]
  },
  {
   "cell_type": "markdown",
   "id": "4353b9a8",
   "metadata": {},
   "source": []
  },
  {
   "cell_type": "code",
   "execution_count": null,
   "id": "561731e3",
   "metadata": {},
   "outputs": [],
   "source": [
    "\"\"\"\n",
    "SI NO HAY EMPIRIC\n",
    "ES EL ORDEN DE\n",
    "np.save(f'{caso_random}/gene_v2.npy', np.array(df.sort_values(\"mean_abs_shap\", ascending=False)['name']))\n",
    "\n",
    "\"\"\"\n",
    "df['p_emp'] = np.load('data/p_values_emp.npy', allow_pickle=True)"
   ]
  },
  {
   "cell_type": "code",
   "execution_count": 64,
   "id": "6822fa89",
   "metadata": {},
   "outputs": [
    {
     "data": {
      "text/plain": [
       "Index(['mean_abs_shap', 'stdev_abs_shap', 'mean_shap', 'snp', 'p_emp'], dtype='object')"
      ]
     },
     "execution_count": 64,
     "metadata": {},
     "output_type": "execute_result"
    }
   ],
   "source": [
    "df.columns"
   ]
  },
  {
   "cell_type": "code",
   "execution_count": null,
   "id": "b075aeb0",
   "metadata": {},
   "outputs": [
    {
     "data": {
      "text/html": [
       "<div>\n",
       "<style scoped>\n",
       "    .dataframe tbody tr th:only-of-type {\n",
       "        vertical-align: middle;\n",
       "    }\n",
       "\n",
       "    .dataframe tbody tr th {\n",
       "        vertical-align: top;\n",
       "    }\n",
       "\n",
       "    .dataframe thead th {\n",
       "        text-align: right;\n",
       "    }\n",
       "</style>\n",
       "<table border=\"1\" class=\"dataframe\">\n",
       "  <thead>\n",
       "    <tr style=\"text-align: right;\">\n",
       "      <th></th>\n",
       "      <th>snp</th>\n",
       "      <th>p_emp</th>\n",
       "      <th>mean_abs_shap</th>\n",
       "      <th>stdev_abs_shap</th>\n",
       "      <th>mean_shap</th>\n",
       "    </tr>\n",
       "  </thead>\n",
       "  <tbody>\n",
       "    <tr>\n",
       "      <th>0</th>\n",
       "      <td>SNP1</td>\n",
       "      <td>0.166667</td>\n",
       "      <td>0.000361</td>\n",
       "      <td>0.000454</td>\n",
       "      <td>-5.804313e-16</td>\n",
       "    </tr>\n",
       "    <tr>\n",
       "      <th>1</th>\n",
       "      <td>SNP2</td>\n",
       "      <td>0.816667</td>\n",
       "      <td>0.000361</td>\n",
       "      <td>0.000454</td>\n",
       "      <td>-5.804313e-16</td>\n",
       "    </tr>\n",
       "    <tr>\n",
       "      <th>2</th>\n",
       "      <td>SNP3</td>\n",
       "      <td>0.333333</td>\n",
       "      <td>0.000361</td>\n",
       "      <td>0.000454</td>\n",
       "      <td>-5.804313e-16</td>\n",
       "    </tr>\n",
       "    <tr>\n",
       "      <th>3</th>\n",
       "      <td>SNP4</td>\n",
       "      <td>0.516667</td>\n",
       "      <td>0.000361</td>\n",
       "      <td>0.000454</td>\n",
       "      <td>-5.804313e-16</td>\n",
       "    </tr>\n",
       "    <tr>\n",
       "      <th>4</th>\n",
       "      <td>SNP5</td>\n",
       "      <td>0.650000</td>\n",
       "      <td>0.000361</td>\n",
       "      <td>0.000454</td>\n",
       "      <td>-5.804313e-16</td>\n",
       "    </tr>\n",
       "    <tr>\n",
       "      <th>...</th>\n",
       "      <td>...</td>\n",
       "      <td>...</td>\n",
       "      <td>...</td>\n",
       "      <td>...</td>\n",
       "      <td>...</td>\n",
       "    </tr>\n",
       "    <tr>\n",
       "      <th>14995</th>\n",
       "      <td>SNP14996</td>\n",
       "      <td>0.033333</td>\n",
       "      <td>0.000361</td>\n",
       "      <td>0.000454</td>\n",
       "      <td>-5.804313e-16</td>\n",
       "    </tr>\n",
       "    <tr>\n",
       "      <th>14996</th>\n",
       "      <td>SNP14997</td>\n",
       "      <td>0.683333</td>\n",
       "      <td>0.000361</td>\n",
       "      <td>0.000454</td>\n",
       "      <td>-5.804313e-16</td>\n",
       "    </tr>\n",
       "    <tr>\n",
       "      <th>14997</th>\n",
       "      <td>SNP14998</td>\n",
       "      <td>0.650000</td>\n",
       "      <td>0.000361</td>\n",
       "      <td>0.000454</td>\n",
       "      <td>-5.804313e-16</td>\n",
       "    </tr>\n",
       "    <tr>\n",
       "      <th>14998</th>\n",
       "      <td>SNP14999</td>\n",
       "      <td>0.650000</td>\n",
       "      <td>0.000361</td>\n",
       "      <td>0.000454</td>\n",
       "      <td>-5.804313e-16</td>\n",
       "    </tr>\n",
       "    <tr>\n",
       "      <th>14999</th>\n",
       "      <td>SNP15000</td>\n",
       "      <td>0.500000</td>\n",
       "      <td>0.000361</td>\n",
       "      <td>0.000454</td>\n",
       "      <td>-5.804313e-16</td>\n",
       "    </tr>\n",
       "  </tbody>\n",
       "</table>\n",
       "<p>15000 rows × 5 columns</p>\n",
       "</div>"
      ],
      "text/plain": [
       "            snp     p_emp  mean_abs_shap  stdev_abs_shap     mean_shap\n",
       "0          SNP1  0.166667       0.000361        0.000454 -5.804313e-16\n",
       "1          SNP2  0.816667       0.000361        0.000454 -5.804313e-16\n",
       "2          SNP3  0.333333       0.000361        0.000454 -5.804313e-16\n",
       "3          SNP4  0.516667       0.000361        0.000454 -5.804313e-16\n",
       "4          SNP5  0.650000       0.000361        0.000454 -5.804313e-16\n",
       "...         ...       ...            ...             ...           ...\n",
       "14995  SNP14996  0.033333       0.000361        0.000454 -5.804313e-16\n",
       "14996  SNP14997  0.683333       0.000361        0.000454 -5.804313e-16\n",
       "14997  SNP14998  0.650000       0.000361        0.000454 -5.804313e-16\n",
       "14998  SNP14999  0.650000       0.000361        0.000454 -5.804313e-16\n",
       "14999  SNP15000  0.500000       0.000361        0.000454 -5.804313e-16\n",
       "\n",
       "[15000 rows x 5 columns]"
      ]
     },
     "execution_count": 68,
     "metadata": {},
     "output_type": "execute_result"
    }
   ],
   "source": [
    "# RESULTADO FINAL FINAL\n",
    "df[[ 'snp', 'p_emp', 'mean_abs_shap', 'stdev_abs_shap', 'mean_shap',]]"
   ]
  }
 ],
 "metadata": {
  "kernelspec": {
   "display_name": "genia",
   "language": "python",
   "name": "python3"
  },
  "language_info": {
   "codemirror_mode": {
    "name": "ipython",
    "version": 3
   },
   "file_extension": ".py",
   "mimetype": "text/x-python",
   "name": "python",
   "nbconvert_exporter": "python",
   "pygments_lexer": "ipython3",
   "version": "3.8.17"
  }
 },
 "nbformat": 4,
 "nbformat_minor": 5
}
